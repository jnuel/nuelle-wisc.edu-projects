{
 "cells": [
  {
   "cell_type": "code",
   "execution_count": 41,
   "metadata": {
    "scrolled": true
   },
   "outputs": [],
   "source": [
    "#Each of these functions should take as an argument the current state of the two water jugs as a list of two integers, as well as the maximum capacities of each jug as a list of two integers.\n",
    "\n",
    "#fill(state, max, which) — returns a copy of state which fills the jug corresponding to the index in which (0 or 1) to its maximum capacity. Do not modify state.\n",
    "def fill(state, max, which):\n",
    "    copy = state.copy()\n",
    "    copy[which] = max[which]\n",
    "    return copy\n",
    "\n",
    "#empty(state, max, which) — returns a copy of state which empties the jug corresponding to the index in which (0 or 1). Do not modify state.\n",
    "def empty(state, max, which):\n",
    "    to_empty = state.copy()\n",
    "    to_empty[which] = 0\n",
    "    return to_empty\n",
    "\n",
    "#xfer(state, max, source, dest) — returns a copy of state which pours the contents of the jug at index source into the jug at index dest, until source is empty or dest is full. Do not modify state. xfer is shorthand for transfer.\n",
    "def xfer(state, max, source, dest):\n",
    "    xfer_copy = state.copy()\n",
    "    if xfer_copy[source] + xfer_copy[dest] > max[dest]:\n",
    "        how_much = max[dest] - xfer_copy[dest]\n",
    "        xfer_copy[dest] = max[dest]\n",
    "        xfer_copy[source] = xfer_copy[source] - how_much\n",
    "    else:\n",
    "        # < or = to\n",
    "        xfer_copy[dest] = xfer_copy[source] + xfer_copy[dest]\n",
    "        xfer_copy[source] = 0\n",
    "    return xfer_copy\n",
    "      \n",
    "#succ(state, max) — prints the list of unique successor states of the current state in any order. This function will generate the unique successor states of the current state by applying fill, empty, xfer operations on the current state. (Note: You have to apply an operation at every step for generating a successor state.)\n",
    "def succ(state, max):\n",
    "    succs = []\n",
    "    succs.append(empty(jugs, max, 0))\n",
    "    if (empty(jugs, max, 1) not in succs):\n",
    "        succs.append(empty(jugs, max, 1))\n",
    "    if (empty(jugs, max, 0) not in succs):\n",
    "        succs.append(empty(jugs, max, 0))\n",
    "    if (xfer(jugs, max, 0, 1) not in succs):\n",
    "        succs.append(xfer(jugs, max, 0, 1))\n",
    "    if (xfer(jugs, max, 1, 0) not in succs):\n",
    "        succs.append(xfer(jugs, max, 1, 0))\n",
    "    if (fill(jugs, max, 0) not in succs):\n",
    "        succs.append(fill(jugs, max, 0))\n",
    "    if (fill(jugs, max, 1) not in succs):\n",
    "        succs.append(fill(jugs, max, 1))\n",
    "    print(succs)\n",
    "    "
   ]
  },
  {
   "cell_type": "code",
   "execution_count": null,
   "metadata": {},
   "outputs": [],
   "source": []
  }
 ],
 "metadata": {
  "kernelspec": {
   "display_name": "Python 3",
   "language": "python",
   "name": "python3"
  },
  "language_info": {
   "codemirror_mode": {
    "name": "ipython",
    "version": 3
   },
   "file_extension": ".py",
   "mimetype": "text/x-python",
   "name": "python",
   "nbconvert_exporter": "python",
   "pygments_lexer": "ipython3",
   "version": "3.8.3"
  }
 },
 "nbformat": 4,
 "nbformat_minor": 4
}
